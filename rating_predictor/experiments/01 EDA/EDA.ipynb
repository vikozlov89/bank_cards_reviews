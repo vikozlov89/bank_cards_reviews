{
 "cells": [
  {
   "cell_type": "code",
   "execution_count": 1,
   "metadata": {},
   "outputs": [],
   "source": [
    "import pandas as pd\n",
    "import numpy as np\n",
    "from matplotlib import pyplot as plt\n",
    "import seaborn as sns\n"
   ]
  },
  {
   "cell_type": "code",
   "execution_count": 10,
   "metadata": {},
   "outputs": [],
   "source": [
    "from params import EXPERIMENT_RAW_DATA_PATH, EXPERIMENT_PROCESSED_DATA_FOLDER, TEST_SET_FILENAME, TRAIN_SET_FILENAME, RANDOM_SEED\n",
    "np.random.seed(RANDOM_SEED)"
   ]
  },
  {
   "cell_type": "code",
   "execution_count": 3,
   "metadata": {},
   "outputs": [],
   "source": [
    "df = pd.read_excel(EXPERIMENT_RAW_DATA_PATH)"
   ]
  },
  {
   "cell_type": "code",
   "execution_count": 4,
   "metadata": {},
   "outputs": [
    {
     "output_type": "execute_result",
     "data": {
      "text/plain": [
       "   Unnamed: 0 post_type                author  published           bank  \\\n",
       "0           0    Review           ned.veegres 2021-03-07  Тинькофф Банк   \n",
       "1           1    Review          user_1043441 2021-03-07       МТС Банк   \n",
       "2           2    Review                  gneg 2021-03-05  Тинькофф Банк   \n",
       "3           3    Review  sashakrs73@gmail.com 2021-03-05  Тинькофф Банк   \n",
       "4           4    Review           89776164857 2021-03-05       СберБанк   \n",
       "\n",
       "                                          title  \\\n",
       "0     Акция  Тинькофф &quot;приведи друга&quot;   \n",
       "1  Блокировка карты из-за сомнительных операций   \n",
       "2     Очень небезопасно доверять им свои деньги   \n",
       "3                    3-й раз не привозят карту!   \n",
       "4                           Не зачислили деньги   \n",
       "\n",
       "                                                body  rating  \n",
       "0  Привёл друга по акции за вознаграждение 500 ру...       1  \n",
       "1  Началось все с того, что без предупреждения и ...       2  \n",
       "2  Оставил заявку на дебетовую карту. Со второй п...       1  \n",
       "3  Заявка на карту была сделана 21 февраля. Доста...       1  \n",
       "4  НЕ ЗАЧИСЛИЛИ ДЕНЬГИ!!!!!!!!!! &amp;amp;nbsp; Б...       1  "
      ],
      "text/html": "<div>\n<style scoped>\n    .dataframe tbody tr th:only-of-type {\n        vertical-align: middle;\n    }\n\n    .dataframe tbody tr th {\n        vertical-align: top;\n    }\n\n    .dataframe thead th {\n        text-align: right;\n    }\n</style>\n<table border=\"1\" class=\"dataframe\">\n  <thead>\n    <tr style=\"text-align: right;\">\n      <th></th>\n      <th>Unnamed: 0</th>\n      <th>post_type</th>\n      <th>author</th>\n      <th>published</th>\n      <th>bank</th>\n      <th>title</th>\n      <th>body</th>\n      <th>rating</th>\n    </tr>\n  </thead>\n  <tbody>\n    <tr>\n      <th>0</th>\n      <td>0</td>\n      <td>Review</td>\n      <td>ned.veegres</td>\n      <td>2021-03-07</td>\n      <td>Тинькофф Банк</td>\n      <td>Акция  Тинькофф &amp;quot;приведи друга&amp;quot;</td>\n      <td>Привёл друга по акции за вознаграждение 500 ру...</td>\n      <td>1</td>\n    </tr>\n    <tr>\n      <th>1</th>\n      <td>1</td>\n      <td>Review</td>\n      <td>user_1043441</td>\n      <td>2021-03-07</td>\n      <td>МТС Банк</td>\n      <td>Блокировка карты из-за сомнительных операций</td>\n      <td>Началось все с того, что без предупреждения и ...</td>\n      <td>2</td>\n    </tr>\n    <tr>\n      <th>2</th>\n      <td>2</td>\n      <td>Review</td>\n      <td>gneg</td>\n      <td>2021-03-05</td>\n      <td>Тинькофф Банк</td>\n      <td>Очень небезопасно доверять им свои деньги</td>\n      <td>Оставил заявку на дебетовую карту. Со второй п...</td>\n      <td>1</td>\n    </tr>\n    <tr>\n      <th>3</th>\n      <td>3</td>\n      <td>Review</td>\n      <td>sashakrs73@gmail.com</td>\n      <td>2021-03-05</td>\n      <td>Тинькофф Банк</td>\n      <td>3-й раз не привозят карту!</td>\n      <td>Заявка на карту была сделана 21 февраля. Доста...</td>\n      <td>1</td>\n    </tr>\n    <tr>\n      <th>4</th>\n      <td>4</td>\n      <td>Review</td>\n      <td>89776164857</td>\n      <td>2021-03-05</td>\n      <td>СберБанк</td>\n      <td>Не зачислили деньги</td>\n      <td>НЕ ЗАЧИСЛИЛИ ДЕНЬГИ!!!!!!!!!! &amp;amp;amp;nbsp; Б...</td>\n      <td>1</td>\n    </tr>\n  </tbody>\n</table>\n</div>"
     },
     "metadata": {},
     "execution_count": 4
    }
   ],
   "source": [
    "df.head()"
   ]
  },
  {
   "cell_type": "code",
   "execution_count": 5,
   "metadata": {},
   "outputs": [
    {
     "output_type": "execute_result",
     "data": {
      "text/plain": [
       "(56125, 8)"
      ]
     },
     "metadata": {},
     "execution_count": 5
    }
   ],
   "source": [
    "df.shape"
   ]
  },
  {
   "source": [
    "# SPLIT AT TRAIN AND TEST"
   ],
   "cell_type": "markdown",
   "metadata": {}
  },
  {
   "cell_type": "code",
   "execution_count": 11,
   "metadata": {},
   "outputs": [],
   "source": [
    "def split_data(df: pd.DataFrame, frac: float=0.75) -> tuple:\n",
    "    to_train = int(df.shape[0] * frac)\n",
    "    unique_users = df.author.drop_duplicates().values\n",
    "    train_users = set(np.random.choice(unique_users, size=to_train, replace=False))\n",
    "    train_set = df[df.author.isin(train_users)].copy()\n",
    "    test_set = df[~df.author.isin(train_users)].copy()\n",
    "    return train_set, test_set\n"
   ]
  },
  {
   "cell_type": "code",
   "execution_count": 18,
   "metadata": {},
   "outputs": [],
   "source": [
    "train, test = split_data(df)"
   ]
  },
  {
   "cell_type": "code",
   "execution_count": 19,
   "metadata": {},
   "outputs": [
    {
     "output_type": "execute_result",
     "data": {
      "text/plain": [
       "       Unnamed: 0 post_type                author  published  \\\n",
       "0               0    Review           ned.veegres 2021-03-07   \n",
       "1               1    Review          user_1043441 2021-03-07   \n",
       "2               2    Review                  gneg 2021-03-05   \n",
       "3               3    Review  sashakrs73@gmail.com 2021-03-05   \n",
       "4               4    Review           89776164857 2021-03-05   \n",
       "...           ...       ...                   ...        ...   \n",
       "56118          18    Review          Giperion2000 2012-12-28   \n",
       "56119          19    Review             user79175 2012-11-28   \n",
       "56121          21    Review          Giperion2000 2012-08-29   \n",
       "56123          23    Review                 tjuna 2011-06-16   \n",
       "56124          24    Review             user79175 2011-06-05   \n",
       "\n",
       "                   bank                                         title  \\\n",
       "0         Тинькофф Банк     Акция  Тинькофф &quot;приведи друга&quot;   \n",
       "1              МТС Банк  Блокировка карты из-за сомнительных операций   \n",
       "2         Тинькофф Банк     Очень небезопасно доверять им свои деньги   \n",
       "3         Тинькофф Банк                    3-й раз не привозят карту!   \n",
       "4              СберБанк                           Не зачислили деньги   \n",
       "...                 ...                                           ...   \n",
       "56118      Связной Банк                                    Это позор!   \n",
       "56119  Хоум Кредит Банк            Home credit опять выходит на связь   \n",
       "56121          СберБанк       Карта, которая никогда меня не покинет!   \n",
       "56123        Альфа-Банк                  Банкомат выдал меньшую сумму   \n",
       "56124  Хоум Кредит Банк                        Хоум кредит - проблемы   \n",
       "\n",
       "                                                    body  rating  \n",
       "0      Привёл друга по акции за вознаграждение 500 ру...       1  \n",
       "1      Началось все с того, что без предупреждения и ...       2  \n",
       "2      Оставил заявку на дебетовую карту. Со второй п...       1  \n",
       "3      Заявка на карту была сделана 21 февраля. Доста...       1  \n",
       "4      НЕ ЗАЧИСЛИЛИ ДЕНЬГИ!!!!!!!!!! &amp;amp;nbsp; Б...       1  \n",
       "...                                                  ...     ...  \n",
       "56118  Извините, дальше пойдёт просто крик души! ЭТО ...       1  \n",
       "56119  Дважды на данном ресурсе я просил данную орган...       1  \n",
       "56121  Скажу честно, не было желания писать отзыв, та...       2  \n",
       "56123  Здравствуйте.&amp;lt;br&amp;gt;12 июня 2011г м...       1  \n",
       "56124  Когда-то я имел крайне неприятный опыт отношен...       1  \n",
       "\n",
       "[50401 rows x 8 columns]"
      ],
      "text/html": "<div>\n<style scoped>\n    .dataframe tbody tr th:only-of-type {\n        vertical-align: middle;\n    }\n\n    .dataframe tbody tr th {\n        vertical-align: top;\n    }\n\n    .dataframe thead th {\n        text-align: right;\n    }\n</style>\n<table border=\"1\" class=\"dataframe\">\n  <thead>\n    <tr style=\"text-align: right;\">\n      <th></th>\n      <th>Unnamed: 0</th>\n      <th>post_type</th>\n      <th>author</th>\n      <th>published</th>\n      <th>bank</th>\n      <th>title</th>\n      <th>body</th>\n      <th>rating</th>\n    </tr>\n  </thead>\n  <tbody>\n    <tr>\n      <th>0</th>\n      <td>0</td>\n      <td>Review</td>\n      <td>ned.veegres</td>\n      <td>2021-03-07</td>\n      <td>Тинькофф Банк</td>\n      <td>Акция  Тинькофф &amp;quot;приведи друга&amp;quot;</td>\n      <td>Привёл друга по акции за вознаграждение 500 ру...</td>\n      <td>1</td>\n    </tr>\n    <tr>\n      <th>1</th>\n      <td>1</td>\n      <td>Review</td>\n      <td>user_1043441</td>\n      <td>2021-03-07</td>\n      <td>МТС Банк</td>\n      <td>Блокировка карты из-за сомнительных операций</td>\n      <td>Началось все с того, что без предупреждения и ...</td>\n      <td>2</td>\n    </tr>\n    <tr>\n      <th>2</th>\n      <td>2</td>\n      <td>Review</td>\n      <td>gneg</td>\n      <td>2021-03-05</td>\n      <td>Тинькофф Банк</td>\n      <td>Очень небезопасно доверять им свои деньги</td>\n      <td>Оставил заявку на дебетовую карту. Со второй п...</td>\n      <td>1</td>\n    </tr>\n    <tr>\n      <th>3</th>\n      <td>3</td>\n      <td>Review</td>\n      <td>sashakrs73@gmail.com</td>\n      <td>2021-03-05</td>\n      <td>Тинькофф Банк</td>\n      <td>3-й раз не привозят карту!</td>\n      <td>Заявка на карту была сделана 21 февраля. Доста...</td>\n      <td>1</td>\n    </tr>\n    <tr>\n      <th>4</th>\n      <td>4</td>\n      <td>Review</td>\n      <td>89776164857</td>\n      <td>2021-03-05</td>\n      <td>СберБанк</td>\n      <td>Не зачислили деньги</td>\n      <td>НЕ ЗАЧИСЛИЛИ ДЕНЬГИ!!!!!!!!!! &amp;amp;amp;nbsp; Б...</td>\n      <td>1</td>\n    </tr>\n    <tr>\n      <th>...</th>\n      <td>...</td>\n      <td>...</td>\n      <td>...</td>\n      <td>...</td>\n      <td>...</td>\n      <td>...</td>\n      <td>...</td>\n      <td>...</td>\n    </tr>\n    <tr>\n      <th>56118</th>\n      <td>18</td>\n      <td>Review</td>\n      <td>Giperion2000</td>\n      <td>2012-12-28</td>\n      <td>Связной Банк</td>\n      <td>Это позор!</td>\n      <td>Извините, дальше пойдёт просто крик души! ЭТО ...</td>\n      <td>1</td>\n    </tr>\n    <tr>\n      <th>56119</th>\n      <td>19</td>\n      <td>Review</td>\n      <td>user79175</td>\n      <td>2012-11-28</td>\n      <td>Хоум Кредит Банк</td>\n      <td>Home credit опять выходит на связь</td>\n      <td>Дважды на данном ресурсе я просил данную орган...</td>\n      <td>1</td>\n    </tr>\n    <tr>\n      <th>56121</th>\n      <td>21</td>\n      <td>Review</td>\n      <td>Giperion2000</td>\n      <td>2012-08-29</td>\n      <td>СберБанк</td>\n      <td>Карта, которая никогда меня не покинет!</td>\n      <td>Скажу честно, не было желания писать отзыв, та...</td>\n      <td>2</td>\n    </tr>\n    <tr>\n      <th>56123</th>\n      <td>23</td>\n      <td>Review</td>\n      <td>tjuna</td>\n      <td>2011-06-16</td>\n      <td>Альфа-Банк</td>\n      <td>Банкомат выдал меньшую сумму</td>\n      <td>Здравствуйте.&amp;amp;lt;br&amp;amp;gt;12 июня 2011г м...</td>\n      <td>1</td>\n    </tr>\n    <tr>\n      <th>56124</th>\n      <td>24</td>\n      <td>Review</td>\n      <td>user79175</td>\n      <td>2011-06-05</td>\n      <td>Хоум Кредит Банк</td>\n      <td>Хоум кредит - проблемы</td>\n      <td>Когда-то я имел крайне неприятный опыт отношен...</td>\n      <td>1</td>\n    </tr>\n  </tbody>\n</table>\n<p>50401 rows × 8 columns</p>\n</div>"
     },
     "metadata": {},
     "execution_count": 19
    }
   ],
   "source": [
    "train"
   ]
  },
  {
   "cell_type": "code",
   "execution_count": null,
   "metadata": {},
   "outputs": [],
   "source": []
  }
 ],
 "metadata": {
  "kernelspec": {
   "display_name": "Python 3",
   "language": "python",
   "name": "python3"
  },
  "language_info": {
   "codemirror_mode": {
    "name": "ipython",
    "version": 3
   },
   "file_extension": ".py",
   "mimetype": "text/x-python",
   "name": "python",
   "nbconvert_exporter": "python",
   "pygments_lexer": "ipython3",
   "version": "3.8.5-final"
  }
 },
 "nbformat": 4,
 "nbformat_minor": 4
}